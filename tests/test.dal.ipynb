{
 "cells": [
  {
   "cell_type": "markdown",
   "id": "51ff4608-a399-4781-87d5-988d8037e690",
   "metadata": {},
   "source": [
    "# Módulo Dal - \"data acess layer\""
   ]
  },
  {
   "cell_type": "code",
   "execution_count": 1,
   "id": "c3ff7eb3-1559-48c3-b10e-050426d46a05",
   "metadata": {},
   "outputs": [],
   "source": [
    "import sqlite3 as sql"
   ]
  },
  {
   "cell_type": "code",
   "execution_count": 17,
   "id": "5ef1fde6-cb6d-44c9-a555-d7a220feea57",
   "metadata": {},
   "outputs": [],
   "source": [
    "# Função para criar o banco de dados\n",
    "\n",
    "conn = sql.connect(\"Agenda.db\")\n",
    "conn.cursor()\n",
    "\n",
    "conn.execute (\"\"\"CREATE TABLE Agenda(\n",
    "    id INTEGER NOT NULL PRIMARY KEY AUTOINCREMENT,\n",
    "    prenome VARCHAR(50) NOT NULL,\n",
    "    nomeMeio VARCHAR(350) NOT NULL,\n",
    "    sobrenome VARCHAR(350) NOT NULL,\n",
    "    codArea VARCHAR(2) NOT NULL,\n",
    "    celular VARCHAR(9) NOT NULL,\n",
    "    fixo VARCHAR(8),\n",
    "    estado VARCHAR(2) NOT NULL, \n",
    "    municipio VARCHAR(30) NOT NULL,\n",
    "    bairro VARCHAR(30),\n",
    "    tipoLogradouro VARCHAR(10) NOT NULL,\n",
    "    nomeLogradouro VARCHAR(150) NOT NULL,\n",
    "    numero INTEGER,\n",
    "    complemento VARCHAR(100)\n",
    "    );\"\"\"\n",
    ") \n",
    "conn.close()"
   ]
  },
  {
   "cell_type": "code",
   "execution_count": 30,
   "id": "0e9198a0-5a28-494a-879e-465342dd521f",
   "metadata": {},
   "outputs": [
    {
     "ename": "NameError",
     "evalue": "name 'cursor' is not defined",
     "output_type": "error",
     "traceback": [
      "\u001b[1;31m---------------------------------------------------------------------------\u001b[0m",
      "\u001b[1;31mNameError\u001b[0m                                 Traceback (most recent call last)",
      "Cell \u001b[1;32mIn[30], line 1\u001b[0m\n\u001b[1;32m----> 1\u001b[0m \u001b[43mcursor\u001b[49m\u001b[38;5;241m.\u001b[39mexecute(\n\u001b[0;32m      2\u001b[0m     \u001b[38;5;124;03m\"\"\"\u001b[39;00m\n\u001b[0;32m      3\u001b[0m \u001b[38;5;124;03mINSERT INTO Agenda(\u001b[39;00m\n\u001b[0;32m      4\u001b[0m \u001b[38;5;124;03mid,\u001b[39;00m\n\u001b[0;32m      5\u001b[0m \u001b[38;5;124;03mprenome, \u001b[39;00m\n\u001b[0;32m      6\u001b[0m \u001b[38;5;124;03mnomeMeio,\u001b[39;00m\n\u001b[0;32m      7\u001b[0m \u001b[38;5;124;03msobrenome, \u001b[39;00m\n\u001b[0;32m      8\u001b[0m \u001b[38;5;124;03mcodArea, \u001b[39;00m\n\u001b[0;32m      9\u001b[0m \u001b[38;5;124;03mcelular, \u001b[39;00m\n\u001b[0;32m     10\u001b[0m \u001b[38;5;124;03mfixo, \u001b[39;00m\n\u001b[0;32m     11\u001b[0m \u001b[38;5;124;03mestado, \u001b[39;00m\n\u001b[0;32m     12\u001b[0m \u001b[38;5;124;03mmunicipio, \u001b[39;00m\n\u001b[0;32m     13\u001b[0m \u001b[38;5;124;03mbairro, \u001b[39;00m\n\u001b[0;32m     14\u001b[0m \u001b[38;5;124;03mtipoLogradouro, \u001b[39;00m\n\u001b[0;32m     15\u001b[0m \u001b[38;5;124;03mnomeLogradouro, \u001b[39;00m\n\u001b[0;32m     16\u001b[0m \u001b[38;5;124;03mnumero, \u001b[39;00m\n\u001b[0;32m     17\u001b[0m \u001b[38;5;124;03mcomplemento)\u001b[39;00m\n\u001b[0;32m     18\u001b[0m \n\u001b[0;32m     19\u001b[0m \u001b[38;5;124;03mvalues\u001b[39;00m\n\u001b[0;32m     20\u001b[0m \u001b[38;5;124;03m(\"1\", \"Henrique\", \"Goulart\", \"Brauner\", \"51\", \"996299443\",\"\" , \"RS\", \"Porto Alegre\", \"Restinga\", \"Avenida\", \"Jose Gertum\", \"544\", \"\")\u001b[39;00m\n\u001b[0;32m     21\u001b[0m \u001b[38;5;124;03m\"\"\"\u001b[39;00m\n\u001b[0;32m     22\u001b[0m )\n",
      "\u001b[1;31mNameError\u001b[0m: name 'cursor' is not defined"
     ]
    }
   ],
   "source": [
    "cursor.execute(\n",
    "    \"\"\"\n",
    "INSERT INTO Agenda(\n",
    "id,\n",
    "prenome, \n",
    "nomeMeio,\n",
    "sobrenome, \n",
    "codArea, \n",
    "celular, \n",
    "fixo, \n",
    "estado, \n",
    "municipio, \n",
    "bairro, \n",
    "tipoLogradouro, \n",
    "nomeLogradouro, \n",
    "numero, \n",
    "complemento)\n",
    "\n",
    "values\n",
    "(\"1\", \"Henrique\", \"Goulart\", \"Brauner\", \"51\", \"996299443\",\"\" , \"RS\", \"Porto Alegre\", \"Restinga\", \"Avenida\", \"Jose Gertum\", \"544\", \"\")\n",
    "\"\"\"\n",
    ")\n",
    "    "
   ]
  },
  {
   "cell_type": "code",
   "execution_count": null,
   "id": "29e6f519-6463-492f-9cec-012a7d0d6cc4",
   "metadata": {},
   "outputs": [],
   "source": []
  }
 ],
 "metadata": {
  "kernelspec": {
   "display_name": "Python 3 (ipykernel)",
   "language": "python",
   "name": "python3"
  },
  "language_info": {
   "codemirror_mode": {
    "name": "ipython",
    "version": 3
   },
   "file_extension": ".py",
   "mimetype": "text/x-python",
   "name": "python",
   "nbconvert_exporter": "python",
   "pygments_lexer": "ipython3",
   "version": "3.10.9"
  }
 },
 "nbformat": 4,
 "nbformat_minor": 5
}
